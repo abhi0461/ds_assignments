{
 "cells": [
  {
   "cell_type": "markdown",
   "id": "d38be558-f768-407f-a648-57d932a746b5",
   "metadata": {},
   "source": [
    "Q1. Which keyword is used to create a function? Create a function to return a list of odd numbers in the\n",
    "range of 1 to 25."
   ]
  },
  {
   "cell_type": "code",
   "execution_count": 4,
   "id": "5e279efc-bb0c-4194-ac93-179d754283d3",
   "metadata": {},
   "outputs": [],
   "source": [
    "# def keyword is used to create a function\n",
    "\n",
    "def getOddNumbers():\n",
    "    i = 25\n",
    "    l1 = []\n",
    "    while i != 0:\n",
    "        if i % 2 != 0:\n",
    "            l1.append(i)\n",
    "        i -= 1\n",
    "    return l1\n",
    "\n",
    "def getOddNumbers1():\n",
    "    return [i for i in range(1,26)  if i % 2 != 0]"
   ]
  },
  {
   "cell_type": "markdown",
   "id": "eca05cd3-38e5-46d7-9223-f583fd721ddf",
   "metadata": {},
   "source": [
    "Q2. Why *args and **kwargs is used in some functions? Create a function each for *args and **kwargs to demonstrate their use.\n"
   ]
  },
  {
   "cell_type": "code",
   "execution_count": 5,
   "id": "adc4dbe8-8ead-4ee6-99ea-73e8ed051f4a",
   "metadata": {},
   "outputs": [
    {
     "name": "stdout",
     "output_type": "stream",
     "text": [
      "11\n"
     ]
    }
   ],
   "source": [
    "# args and **kwargs is used when the no of parameters are not fixed at the time of creation of function and also to give\n",
    "# flexiblity to user who calls that function to send any number of parameters user wants\n",
    "\n",
    "def getOddNumbers(*args):\n",
    "    return [i for i in args  if i % 2 != 0]\n",
    "a = getOddNumbers(1,2,3,46)\n",
    "\n",
    "def sumOfInteger(**kwargs):\n",
    "    sum = 0\n",
    "    for k, v in kwargs.items():\n",
    "        if type(v) == int:\n",
    "             sum += v\n",
    "    return sum\n",
    "a = sumOfInteger(a=1,b=2.3,c= [3,'abhijit',46],d=10)\n",
    "print (a)"
   ]
  },
  {
   "cell_type": "markdown",
   "id": "1b79e23e-954b-4d0b-b9fc-866e5c982b2e",
   "metadata": {},
   "source": [
    "Q3. What is an iterator in python? Name the method used to initialise the iterator object and the method\n",
    "used for iteration. Use these methods to print the first five elements of the given list [2, 4, 6, 8, 10, 12, 14,\n",
    "16, 18, 20]."
   ]
  },
  {
   "cell_type": "code",
   "execution_count": 6,
   "id": "99986814-84c3-47af-b855-a058e4792ec4",
   "metadata": {},
   "outputs": [],
   "source": [
    "# method used to initialise the iterator object:\n",
    "#  list, tuple, dict, and set.\n",
    "\n",
    "# initialise the iterator object\n",
    "# a = list()\n",
    "# b = tuple()\n",
    "\n",
    "# method used for iteration:\n",
    "# for and while loop\n",
    "\n",
    "def iterateOver():\n",
    "    l = [2, 4, 6, 8, 10, 12, 14, 16, 18, 20]\n",
    "    for i in range(len(l)):\n",
    "        if i < 5:\n",
    "            print (l[i])\n",
    "    \n",
    "def iterateOver2():\n",
    "    l = [2, 4, 6, 8, 10, 12, 14, 16, 18, 20]\n",
    "    i = 0\n",
    "    while i < 5:\n",
    "        print (l[i])\n",
    "        i = i+1\n"
   ]
  },
  {
   "cell_type": "markdown",
   "id": "8a38e53b-6786-45eb-b5d1-340ea368c408",
   "metadata": {},
   "source": [
    "Q4. What is a generator function in python? Why yield keyword is used? Give an example of a generator\n",
    "function."
   ]
  },
  {
   "cell_type": "code",
   "execution_count": 10,
   "id": "5324d0e9-5485-43f5-93ec-acdad354d77d",
   "metadata": {},
   "outputs": [
    {
     "name": "stdout",
     "output_type": "stream",
     "text": [
      "<generator object getEvenNumbers at 0x7ff76db96420>\n",
      "2\n",
      "4\n",
      "6\n",
      "8\n"
     ]
    }
   ],
   "source": [
    "# generator function: those functions that, instead of returning a single value, return an iterable generator object\n",
    "# yield keyword is used : yield is used insted of return to return generator objects\n",
    "\n",
    "def getEvenNumbers(n):\n",
    "    for i in n:\n",
    "        if i % 2 == 0:\n",
    "            yield i\n",
    "a = getEvenNumbers([1,2,3,4,5,6,7,8,9])\n",
    "print (a)\n",
    "for i in a:\n",
    "    print (i)\n"
   ]
  },
  {
   "cell_type": "markdown",
   "id": "60b5a387-77d0-4cd7-b7af-a02d077de8ef",
   "metadata": {},
   "source": [
    "Q5. Create a generator function for prime numbers less than 1000. Use the next() method to print the\n",
    "first 20 prime numbers."
   ]
  },
  {
   "cell_type": "code",
   "execution_count": 13,
   "id": "322d390a-1add-4ed7-9601-0f29df6abfc0",
   "metadata": {},
   "outputs": [
    {
     "name": "stdout",
     "output_type": "stream",
     "text": [
      "<generator object primeNumbers at 0x7ff76db96ab0>\n",
      "2\n",
      "3\n",
      "5\n",
      "7\n",
      "11\n",
      "13\n",
      "17\n",
      "19\n",
      "23\n",
      "29\n",
      "31\n",
      "37\n",
      "41\n",
      "43\n",
      "47\n",
      "53\n",
      "59\n",
      "61\n",
      "67\n",
      "71\n"
     ]
    }
   ],
   "source": [
    "def primeNumbers():\n",
    "    n=1000\n",
    "    for i in range(2,n):\n",
    "        for j in range(2,i):\n",
    "            if i % j == 0:\n",
    "                break\n",
    "        else:\n",
    "            yield i\n",
    "    \n",
    "a = primeNumbers()\n",
    "print(a)\n",
    "\n",
    "i = 20\n",
    "while i != 0:\n",
    "    print(next(a))\n",
    "    i-=1"
   ]
  },
  {
   "cell_type": "markdown",
   "id": "fd4b1389-5530-47d1-ad10-3aa54c6b8a83",
   "metadata": {},
   "source": [
    "Q6. Write a python program to print the first 10 Fibonacci numbers using a while loop."
   ]
  },
  {
   "cell_type": "code",
   "execution_count": 14,
   "id": "14056cd0-d1bd-4963-a8ba-2f6547606eab",
   "metadata": {},
   "outputs": [
    {
     "name": "stdout",
     "output_type": "stream",
     "text": [
      "0\n",
      "1\n",
      "1\n",
      "2\n",
      "3\n",
      "5\n",
      "8\n",
      "13\n",
      "21\n",
      "34\n"
     ]
    }
   ],
   "source": [
    "def fib_while(n):\n",
    "    a,b = 0,1\n",
    "    while n != 0:\n",
    "        c = b+a\n",
    "        print (a)\n",
    "        a ,b = b,c\n",
    "        n-=1\n",
    "fib_while(10)\n"
   ]
  },
  {
   "cell_type": "markdown",
   "id": "8c26c78e-d11d-4b0f-a1fa-9a2fbb7e40e9",
   "metadata": {},
   "source": [
    "Q7. Write a List Comprehension to iterate through the given string: ‘pwskills’.\n",
    "Expected output: ['p', 'w', 's', 'k', 'i', 'l', 'l', 's']"
   ]
  },
  {
   "cell_type": "code",
   "execution_count": 15,
   "id": "42c3d92f-0f85-4412-b1a7-45760faaa6b4",
   "metadata": {},
   "outputs": [
    {
     "name": "stdout",
     "output_type": "stream",
     "text": [
      "['p', 'w', 's', 'k', 'i', 'l', 'l', 's']\n"
     ]
    }
   ],
   "source": [
    "str =  'pwskills'\n",
    "print (list(str))"
   ]
  },
  {
   "cell_type": "markdown",
   "id": "d61951e5-053e-444f-a08b-b007b9b3b8ec",
   "metadata": {},
   "source": [
    "Q8. Write a python program to check whether a given number is Palindrome or not using a while loop."
   ]
  },
  {
   "cell_type": "code",
   "execution_count": 36,
   "id": "103b132a-5f40-4e41-aa18-9a5d5bf9df50",
   "metadata": {},
   "outputs": [],
   "source": [
    "# 1221 , 12321\n",
    "def check_pallindrom(n):\n",
    "    temp = n\n",
    "    n1 = 0\n",
    "    while(n > 0):\n",
    "        i = n % 10\n",
    "        n = n // 10\n",
    "        n1 = n1*10+i\n",
    "    if (temp == n1):\n",
    "        print ('given no. is palindrome')\n",
    "    else:\n",
    "        print ('given no. is not palindrome')"
   ]
  },
  {
   "cell_type": "code",
   "execution_count": 40,
   "id": "c4b28501-689e-4db4-8ada-b709fe978935",
   "metadata": {},
   "outputs": [
    {
     "name": "stdout",
     "output_type": "stream",
     "text": [
      "given no. is palindrome\n"
     ]
    }
   ],
   "source": [
    "check_pallindrom(1221)"
   ]
  },
  {
   "cell_type": "markdown",
   "id": "5dd7f404-df88-47e4-9c1a-8df764ff2b3c",
   "metadata": {},
   "source": [
    "Q9. Write a code to print odd numbers from 1 to 100 using list comprehension.\n",
    "Note: Use a list comprehension to create a list from 1 to 100 and use another List comprehension to filter\n",
    "out odd numbers."
   ]
  },
  {
   "cell_type": "code",
   "execution_count": 10,
   "id": "dda8aacc-d4af-4ce5-a237-07e091b9cda6",
   "metadata": {},
   "outputs": [
    {
     "name": "stdout",
     "output_type": "stream",
     "text": [
      "[1, 3, 5, 7, 9, 11, 13, 15, 17, 19, 21, 23, 25, 27, 29, 31, 33, 35, 37, 39, 41, 43, 45, 47, 49, 51, 53, 55, 57, 59, 61, 63, 65, 67, 69, 71, 73, 75, 77, 79, 81, 83, 85, 87, 89, 91, 93, 95, 97, 99]\n"
     ]
    }
   ],
   "source": [
    "l1 = [i for i in range(1,101)]\n",
    "\n",
    "oddNumbers = [j for j in l1 if j % 2 != 0]\n",
    "print(oddNumbers)"
   ]
  }
 ],
 "metadata": {
  "kernelspec": {
   "display_name": "Python 3 (ipykernel)",
   "language": "python",
   "name": "python3"
  },
  "language_info": {
   "codemirror_mode": {
    "name": "ipython",
    "version": 3
   },
   "file_extension": ".py",
   "mimetype": "text/x-python",
   "name": "python",
   "nbconvert_exporter": "python",
   "pygments_lexer": "ipython3",
   "version": "3.10.8"
  }
 },
 "nbformat": 4,
 "nbformat_minor": 5
}
